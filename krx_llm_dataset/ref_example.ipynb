{
 "cells": [
  {
   "cell_type": "markdown",
   "id": "8596963e-bb14-417b-bb9e-1eaed6ac8dd1",
   "metadata": {},
   "source": [
    "# 용어사전으로 MCQA 데이터를 생성하는 예제"
   ]
  },
  {
   "cell_type": "markdown",
   "id": "847ff9cc-0a29-44e3-9432-6e1728cb832e",
   "metadata": {},
   "source": [
    "## <span style=\"color: #886CE4\"> 1. 시사경제용어사전 읽어오기 </span>"
   ]
  },
  {
   "cell_type": "markdown",
   "id": "d4ae3ff7-81c5-4eb1-9619-59d1ac7016eb",
   "metadata": {},
   "source": [
    "[Link](https://www.econedu.go.kr/user/playEcon/currEconTermDoc/menu/listhttps://www.econedu.go.kr/user/playEcon/currEconTermDoc/menu/list)를 통해 용어집 엑셀 파일을 다운로드하고, `reference_samples` 폴더에 저장합니다."
   ]
  },
  {
   "cell_type": "code",
   "execution_count": 7,
   "id": "c4a13ed9-8c5c-43d2-be77-309375ff89f4",
   "metadata": {
    "execution": {
     "iopub.execute_input": "2024-12-09T15:52:13.501240Z",
     "iopub.status.busy": "2024-12-09T15:52:13.500791Z",
     "iopub.status.idle": "2024-12-09T15:52:13.681089Z",
     "shell.execute_reply": "2024-12-09T15:52:13.680842Z",
     "shell.execute_reply.started": "2024-12-09T15:52:13.501203Z"
    },
    "tags": []
   },
   "outputs": [],
   "source": [
    "import pandas as pd\n",
    "reference = \"reference_samples/시사경제용어.xlsx\"\n",
    "df = pd.read_excel(reference)"
   ]
  },
  {
   "cell_type": "code",
   "execution_count": 8,
   "id": "52d06e72-85bc-4d66-9516-3d2952a51d06",
   "metadata": {
    "execution": {
     "iopub.execute_input": "2024-12-09T15:52:16.922912Z",
     "iopub.status.busy": "2024-12-09T15:52:16.921956Z",
     "iopub.status.idle": "2024-12-09T15:52:16.939903Z",
     "shell.execute_reply": "2024-12-09T15:52:16.939341Z",
     "shell.execute_reply.started": "2024-12-09T15:52:16.922845Z"
    },
    "tags": []
   },
   "outputs": [
    {
     "data": {
      "text/html": [
       "<div>\n",
       "<style scoped>\n",
       "    .dataframe tbody tr th:only-of-type {\n",
       "        vertical-align: middle;\n",
       "    }\n",
       "\n",
       "    .dataframe tbody tr th {\n",
       "        vertical-align: top;\n",
       "    }\n",
       "\n",
       "    .dataframe thead th {\n",
       "        text-align: right;\n",
       "    }\n",
       "</style>\n",
       "<table border=\"1\" class=\"dataframe\">\n",
       "  <thead>\n",
       "    <tr style=\"text-align: right;\">\n",
       "      <th></th>\n",
       "      <th>순번</th>\n",
       "      <th>주제</th>\n",
       "      <th>용어</th>\n",
       "      <th>설명</th>\n",
       "    </tr>\n",
       "  </thead>\n",
       "  <tbody>\n",
       "    <tr>\n",
       "      <th>0</th>\n",
       "      <td>1</td>\n",
       "      <td>사회</td>\n",
       "      <td>0.5인 가구</td>\n",
       "      <td>싱글족 가운데 두 곳 이상에 거처를 두거나 잦은 여행과 출장 등으로 오랫동안 집을 ...</td>\n",
       "    </tr>\n",
       "    <tr>\n",
       "      <th>1</th>\n",
       "      <td>2</td>\n",
       "      <td>경영</td>\n",
       "      <td>1인 창조기업</td>\n",
       "      <td>개인이 사장이면서 직원인 기업을 의미한다. 자신이 가진 '지식, 경험, 기술' 등을...</td>\n",
       "    </tr>\n",
       "    <tr>\n",
       "      <th>2</th>\n",
       "      <td>3</td>\n",
       "      <td>경제</td>\n",
       "      <td>1인당 국민소득</td>\n",
       "      <td>국민소득을 총국민 수로 나눈 값. 해당 국가의 소득 수준을 보여주는 가장 대표적인 ...</td>\n",
       "    </tr>\n",
       "    <tr>\n",
       "      <th>3</th>\n",
       "      <td>4</td>\n",
       "      <td>과학</td>\n",
       "      <td>20-20-20 계획</td>\n",
       "      <td>\\t유럽연합(EU)이 2020년까지 온실가스 20% 감축, 에너지효율 20% 개선,...</td>\n",
       "    </tr>\n",
       "    <tr>\n",
       "      <th>4</th>\n",
       "      <td>5</td>\n",
       "      <td>금융</td>\n",
       "      <td>2차 시장(Secondary Market)</td>\n",
       "      <td>2차 시장은 처음 발행된 증권, 채권 등이 거래되는 발행시장과 구분되며, 이미 발행...</td>\n",
       "    </tr>\n",
       "  </tbody>\n",
       "</table>\n",
       "</div>"
      ],
      "text/plain": [
       "   순번  주제                       용어  \\\n",
       "0   1  사회                  0.5인 가구   \n",
       "1   2  경영                  1인 창조기업   \n",
       "2   3  경제                 1인당 국민소득   \n",
       "3   4  과학              20-20-20 계획   \n",
       "4   5  금융  2차 시장(Secondary Market)   \n",
       "\n",
       "                                                  설명  \n",
       "0  싱글족 가운데 두 곳 이상에 거처를 두거나 잦은 여행과 출장 등으로 오랫동안 집을 ...  \n",
       "1  개인이 사장이면서 직원인 기업을 의미한다. 자신이 가진 '지식, 경험, 기술' 등을...  \n",
       "2  국민소득을 총국민 수로 나눈 값. 해당 국가의 소득 수준을 보여주는 가장 대표적인 ...  \n",
       "3  \\t유럽연합(EU)이 2020년까지 온실가스 20% 감축, 에너지효율 20% 개선,...  \n",
       "4  2차 시장은 처음 발행된 증권, 채권 등이 거래되는 발행시장과 구분되며, 이미 발행...  "
      ]
     },
     "execution_count": 8,
     "metadata": {},
     "output_type": "execute_result"
    }
   ],
   "source": [
    "df.head(5)"
   ]
  },
  {
   "cell_type": "markdown",
   "id": "5dfe6c27-bf42-47ba-a542-4a74c74c9ce7",
   "metadata": {},
   "source": [
    "## <span style=\"color: #886CE4\"> 2. Input Data로 변형하기 </span>\n",
    "PDF를 파싱하는 것과 달리, 용어사전의 경우는 이미 검수가 끝난 좋은 Quality의 데이터 입니다.  \n",
    "따라서 `quality_filter`를 적용할 필요없이 Graph Pipeline의 Input Data형태로 변형해주면 됩니다.  \n",
    "Graph Pipeline의 Input은 Json line 형태여야 하며, `title`과 `contents`를 포함해야 합니다.  "
   ]
  },
  {
   "cell_type": "code",
   "execution_count": 11,
   "id": "b1f02816-07b8-4e40-9bde-113d99b86674",
   "metadata": {
    "execution": {
     "iopub.execute_input": "2024-12-09T15:54:07.396336Z",
     "iopub.status.busy": "2024-12-09T15:54:07.395907Z",
     "iopub.status.idle": "2024-12-09T15:54:07.402594Z",
     "shell.execute_reply": "2024-12-09T15:54:07.402026Z",
     "shell.execute_reply.started": "2024-12-09T15:54:07.396317Z"
    },
    "tags": []
   },
   "outputs": [
    {
     "data": {
      "text/html": [
       "<div>\n",
       "<style scoped>\n",
       "    .dataframe tbody tr th:only-of-type {\n",
       "        vertical-align: middle;\n",
       "    }\n",
       "\n",
       "    .dataframe tbody tr th {\n",
       "        vertical-align: top;\n",
       "    }\n",
       "\n",
       "    .dataframe thead th {\n",
       "        text-align: right;\n",
       "    }\n",
       "</style>\n",
       "<table border=\"1\" class=\"dataframe\">\n",
       "  <thead>\n",
       "    <tr style=\"text-align: right;\">\n",
       "      <th></th>\n",
       "      <th>순번</th>\n",
       "      <th>주제</th>\n",
       "      <th>용어</th>\n",
       "      <th>설명</th>\n",
       "    </tr>\n",
       "  </thead>\n",
       "  <tbody>\n",
       "    <tr>\n",
       "      <th>0</th>\n",
       "      <td>1</td>\n",
       "      <td>사회</td>\n",
       "      <td>0.5인 가구</td>\n",
       "      <td>싱글족 가운데 두 곳 이상에 거처를 두거나 잦은 여행과 출장 등으로 오랫동안 집을 ...</td>\n",
       "    </tr>\n",
       "  </tbody>\n",
       "</table>\n",
       "</div>"
      ],
      "text/plain": [
       "   순번  주제       용어                                                 설명\n",
       "0   1  사회  0.5인 가구  싱글족 가운데 두 곳 이상에 거처를 두거나 잦은 여행과 출장 등으로 오랫동안 집을 ..."
      ]
     },
     "execution_count": 11,
     "metadata": {},
     "output_type": "execute_result"
    }
   ],
   "source": [
    "df.head(1)"
   ]
  },
  {
   "cell_type": "code",
   "execution_count": 12,
   "id": "91c9c884-5760-4e2e-b798-10b5815d57d7",
   "metadata": {
    "execution": {
     "iopub.execute_input": "2024-12-09T15:54:36.303803Z",
     "iopub.status.busy": "2024-12-09T15:54:36.303005Z",
     "iopub.status.idle": "2024-12-09T15:54:36.317063Z",
     "shell.execute_reply": "2024-12-09T15:54:36.313532Z",
     "shell.execute_reply.started": "2024-12-09T15:54:36.303748Z"
    },
    "tags": []
   },
   "outputs": [],
   "source": [
    "# 용어는 title로, 설명은 contents로 바꿔줍니다.\n",
    "df = df.rename({\"용어\": \"title\", \"설명\": \"contents\"}, axis = 1)"
   ]
  },
  {
   "cell_type": "code",
   "execution_count": 13,
   "id": "2026beb7-2582-4120-9f16-7305c05cddc7",
   "metadata": {
    "execution": {
     "iopub.execute_input": "2024-12-09T15:54:40.699234Z",
     "iopub.status.busy": "2024-12-09T15:54:40.698674Z",
     "iopub.status.idle": "2024-12-09T15:54:40.715559Z",
     "shell.execute_reply": "2024-12-09T15:54:40.714911Z",
     "shell.execute_reply.started": "2024-12-09T15:54:40.699199Z"
    },
    "tags": []
   },
   "outputs": [
    {
     "data": {
      "text/html": [
       "<div>\n",
       "<style scoped>\n",
       "    .dataframe tbody tr th:only-of-type {\n",
       "        vertical-align: middle;\n",
       "    }\n",
       "\n",
       "    .dataframe tbody tr th {\n",
       "        vertical-align: top;\n",
       "    }\n",
       "\n",
       "    .dataframe thead th {\n",
       "        text-align: right;\n",
       "    }\n",
       "</style>\n",
       "<table border=\"1\" class=\"dataframe\">\n",
       "  <thead>\n",
       "    <tr style=\"text-align: right;\">\n",
       "      <th></th>\n",
       "      <th>순번</th>\n",
       "      <th>주제</th>\n",
       "      <th>title</th>\n",
       "      <th>contents</th>\n",
       "    </tr>\n",
       "  </thead>\n",
       "  <tbody>\n",
       "    <tr>\n",
       "      <th>0</th>\n",
       "      <td>1</td>\n",
       "      <td>사회</td>\n",
       "      <td>0.5인 가구</td>\n",
       "      <td>싱글족 가운데 두 곳 이상에 거처를 두거나 잦은 여행과 출장 등으로 오랫동안 집을 ...</td>\n",
       "    </tr>\n",
       "  </tbody>\n",
       "</table>\n",
       "</div>"
      ],
      "text/plain": [
       "   순번  주제    title                                           contents\n",
       "0   1  사회  0.5인 가구  싱글족 가운데 두 곳 이상에 거처를 두거나 잦은 여행과 출장 등으로 오랫동안 집을 ..."
      ]
     },
     "execution_count": 13,
     "metadata": {},
     "output_type": "execute_result"
    }
   ],
   "source": [
    "df.head(1)"
   ]
  },
  {
   "cell_type": "code",
   "execution_count": 14,
   "id": "1371dbe0-1a15-45ec-be2d-0384d14047ba",
   "metadata": {
    "execution": {
     "iopub.execute_input": "2024-12-09T15:55:10.944052Z",
     "iopub.status.busy": "2024-12-09T15:55:10.943245Z",
     "iopub.status.idle": "2024-12-09T15:55:10.966328Z",
     "shell.execute_reply": "2024-12-09T15:55:10.966045Z",
     "shell.execute_reply.started": "2024-12-09T15:55:10.943996Z"
    },
    "tags": []
   },
   "outputs": [
    {
     "data": {
      "text/plain": [
       "[{'순번': 1,\n",
       "  '주제': '사회',\n",
       "  'title': '0.5인 가구',\n",
       "  'contents': '싱글족 가운데 두 곳 이상에 거처를 두거나 잦은 여행과 출장 등으로 오랫동안 집을 비우는 사람들을 일컫는 말. 0.5인 가구는 1인 가구보다 집에 머무는 시간이 훨씬 더 짧다. 평소에는 직장 근처에 방을 얻어 혼자 살지만 주말에는 가족들의 거처로 찾아가 함께 시간을 보내는 경우도 여기에 속한다.'},\n",
       " {'순번': 2,\n",
       "  '주제': '경영',\n",
       "  'title': '1인 창조기업',\n",
       "  'contents': \"개인이 사장이면서 직원인 기업을 의미한다. 자신이 가진 '지식, 경험, 기술' 등을 사용하여 보다 창조적인 서비스를 제공함으로써 이윤을 창출하는 경우 1인 창조기업이라 할 수 있다. 구체적으로는 △소프트웨어 개발, 홈페이지 제작 등 IT서비스 △만화, 드라마, 영화제작 등 문화콘텐츠 서비스 △전통식품, 공예품 분야의 제조업 등 창의적인 아이디어나 전문 지식ㆍ기술 등 분야의 1인 중심기업을 말한다.\"}]"
      ]
     },
     "execution_count": 14,
     "metadata": {},
     "output_type": "execute_result"
    }
   ],
   "source": [
    "# to_dict 함수로 Json line 형태로 바꿔줍니다.\n",
    "data = df.to_dict(\"records\")\n",
    "data[:2]"
   ]
  },
  {
   "cell_type": "markdown",
   "id": "01563030-a767-47fd-861a-2d95f8884ade",
   "metadata": {},
   "source": [
    "## <span style=\"color: #886CE4\"> 3. MCQA graph Pipeline </span>\n",
    "MCQA Graph Pipepline을 통해서 Instruction 데이터셋을 생성합니다.\n",
    "데이터 생성 전에 GPT의 API를 사용해야하므로 `api_key`를 환경설정에 추가합니다.\n",
    "\n",
    "```python\n",
    "os.environ['OPENAI_API_KEY'] = 'sk-....'\n",
    "```\n",
    "\n",
    "MCQA Graph Pipeline은 설정값을 전달해야합니다.\n",
    "`utils.graph.mcqa_graph`의 docstring에는 아래와 같이 제공되어 있습니다.  \n",
    "\n",
    "```python\n",
    "data = pd.DataFrame(read_jsonl(\"sisa_encyc.jsonl\"))\n",
    "data = make_index(data.to_dict(\"records\"), prefix=\"시사경제용어사전\")\n",
    "inputs = {\n",
    "    \"save_dir\": \".\", # 저장할 디렉토리명\n",
    "    \"save_file_name\": \"sisa_encyc\", # 저장할 파일명.\n",
    "    \"task_type\": \"common\", # common, knowledge, math\n",
    "    \"eval_type\": \"mcqa\", # mcqa, qa\n",
    "    \"domain_type\": \"common\", # common, market, accounting, law, quant\n",
    "    \"n_datasets\": 5, # Step별로 Refence당 생성할 MCQA 데이터셋 수\n",
    "    \"max_step\": 2, # 몇 Step까지 실행할 것인지\n",
    "    \"n_workers\": 300, # GPT로 생성시 Concurrent의 Worker 수\n",
    "    \"oai_model\": \"gpt-4o-mini\", # gpt 모델명. Dictionary 타입으로 각 completion마다 정의 가능\n",
    "    \"error_tolerance_ratio\": 0.03, # 허용할 에러율. 해당 에러율 이하로 에러 발생시 다음 단계로 진행\n",
    "    \"show_log_error\": False, # 에러별로 발생한 Index를 로그로 표시\n",
    "    \"data\": data # Reference 데이터\n",
    "}\n",
    "graph = mcqa_graph()\n",
    "result = graph.invoke(inputs=inputs, config={\"recursion_limit\": 30}) # Graph에서 재귀적으로 실행되는 허용치\n",
    "```\n",
    "\n",
    "Graph Pipe Line들에 입력되는 data들은 모두 Jsonline 형태여야 하며, `title`과 `contents`가 포함되어야 합니다.  \n",
    "또한 graph에 투입되기 전, `utils.processing.make_index`함수로 인덱스를 생성해줘야합니다.  \n",
    "이때 생성한 index를 기반으로 graph 내에서 에러 처리를 수행합니다."
   ]
  },
  {
   "cell_type": "code",
   "execution_count": 15,
   "id": "4d5765ab-21ea-4874-9182-aded8ed5f239",
   "metadata": {
    "execution": {
     "iopub.execute_input": "2024-12-09T15:55:48.278016Z",
     "iopub.status.busy": "2024-12-09T15:55:48.277098Z",
     "iopub.status.idle": "2024-12-09T15:55:49.034199Z",
     "shell.execute_reply": "2024-12-09T15:55:49.033901Z",
     "shell.execute_reply.started": "2024-12-09T15:55:48.277954Z"
    },
    "tags": []
   },
   "outputs": [],
   "source": [
    "from utils import make_index, mcqa_graph\n",
    "\n",
    "# 우리가 생성한 'data'도 json line형태이므로 따로 read_jsonl로 읽을 필요는 없습니다.\n",
    "data = make_index(data, prefix=\"시사경제용어\") "
   ]
  },
  {
   "cell_type": "code",
   "execution_count": 16,
   "id": "7c4c8970-f682-47ef-ada9-b456532afd9d",
   "metadata": {
    "execution": {
     "iopub.execute_input": "2024-12-09T15:55:49.035060Z",
     "iopub.status.busy": "2024-12-09T15:55:49.034893Z",
     "iopub.status.idle": "2024-12-09T15:55:49.037172Z",
     "shell.execute_reply": "2024-12-09T15:55:49.036905Z",
     "shell.execute_reply.started": "2024-12-09T15:55:49.035050Z"
    },
    "tags": []
   },
   "outputs": [
    {
     "data": {
      "text/plain": [
       "{'순번': 24,\n",
       " '주제': '경영',\n",
       " 'title': 'ASP(Application Service Provider)',\n",
       " 'contents': '네트워크를 통해 기업의 핵심 Business Application을 제공하고, 전문기술인력이 이를 구축, 관리해주는 새로운 개념의 IT 서비스이다. 즉, 고가의 하드웨어, 소프트웨어를 도입하지 않고도 네트워크 인프라를 이용하여 다양한 정보화 솔루션을 사용할 수 있는 애플리케이션 임대 서비스이다. 기존의 애플리케이션 소프트웨어를 패키지화하여 판매하는 방식이 아닌, 웹을 통해 일정 비용만 내고 빌려 쓸 수 있는 애플리케이션 아웃소싱의 개념이다. 기업 혹은 개인의 입장에서는 별도의 서버 혹은 애플리케이션을 구매 하지 않아도 되어 비용, 시간, 관리 인력 부담의 해소가 가능하다. 중소기업의 경우, 선진 경영 및 업무 프로세스를 쉽게 취득하면서 대기업과 동등한 업무혁신이 가능하다는 점이 장점이다. 온 디맨드(On-demand) 또는 사스(SaaS: Software as a Service)라고도 일컫는다.',\n",
       " 'index': '시사경제용어_23'}"
      ]
     },
     "execution_count": 16,
     "metadata": {},
     "output_type": "execute_result"
    }
   ],
   "source": [
    "data[23]"
   ]
  },
  {
   "cell_type": "code",
   "execution_count": 17,
   "id": "74f9b389-c604-487b-9b5a-42ba455b6e8c",
   "metadata": {
    "execution": {
     "iopub.execute_input": "2024-12-09T15:56:04.494925Z",
     "iopub.status.busy": "2024-12-09T15:56:04.493742Z",
     "iopub.status.idle": "2024-12-09T15:56:55.792767Z",
     "shell.execute_reply": "2024-12-09T15:56:55.792171Z",
     "shell.execute_reply.started": "2024-12-09T15:56:04.494876Z"
    },
    "tags": []
   },
   "outputs": [
    {
     "name": "stderr",
     "output_type": "stream",
     "text": [
      "\u001b[32m2024-12-10 00:56:04.513\u001b[0m | \u001b[1mINFO    \u001b[0m | \u001b[36mutils.graph\u001b[0m:\u001b[36mnode_generate_mcqa_step_1\u001b[0m:\u001b[36m93\u001b[0m - \u001b[1m**State Parameters**\n",
      "save_dir: .\n",
      "save_file_name: sisa_economy_terms\n",
      "task_type: common\n",
      "eval_type: mcqa\n",
      "domain_type: common\n",
      "n_datasets: 2\n",
      "n_workers: 300\n",
      "max_step: 1\n",
      "oai_model: gpt-4o-mini\n",
      "error_tolerance_ratio: 0.3\u001b[0m\n",
      "\u001b[32m2024-12-10 00:56:04.514\u001b[0m | \u001b[1mINFO    \u001b[0m | \u001b[36mutils.graph\u001b[0m:\u001b[36mnode_generate_mcqa_step_1\u001b[0m:\u001b[36m95\u001b[0m - \u001b[1mnode_generate_mcqa_step_1\u001b[0m\n",
      "\u001b[32m2024-12-10 00:56:04.514\u001b[0m | \u001b[1mINFO    \u001b[0m | \u001b[36mutils.utils\u001b[0m:\u001b[36mconcurrent_execute\u001b[0m:\u001b[36m104\u001b[0m - \u001b[1mn_workers: 300\u001b[0m\n",
      "\u001b[32m2024-12-10 00:56:04.514\u001b[0m | \u001b[1mINFO    \u001b[0m | \u001b[36mutils.utils\u001b[0m:\u001b[36mconcurrent_execute\u001b[0m:\u001b[36m105\u001b[0m - \u001b[1miterables length: 10\u001b[0m\n",
      "100%|███████████████████████████████████████████████████████████████████████████████████| 10/10 [00:16<00:00,  1.64s/it]\n",
      "\u001b[32m2024-12-10 00:56:20.995\u001b[0m | \u001b[1mINFO    \u001b[0m | \u001b[36mutils.graph\u001b[0m:\u001b[36mnode_process_mcqa_errors\u001b[0m:\u001b[36m260\u001b[0m - \u001b[1mnode_process_mcqa_errors\u001b[0m\n",
      "\u001b[32m2024-12-10 00:56:20.997\u001b[0m | \u001b[1mINFO    \u001b[0m | \u001b[36mutils.graph\u001b[0m:\u001b[36mnode_process_mcqa_errors\u001b[0m:\u001b[36m271\u001b[0m - \u001b[1mOption Errors:[](0)\u001b[0m\n",
      "\u001b[32m2024-12-10 00:56:20.999\u001b[0m | \u001b[1mINFO    \u001b[0m | \u001b[36mutils.graph\u001b[0m:\u001b[36mnode_process_mcqa_errors\u001b[0m:\u001b[36m277\u001b[0m - \u001b[1mAnswer Errors:[](0)\u001b[0m\n",
      "\u001b[32m2024-12-10 00:56:21.004\u001b[0m | \u001b[1mINFO    \u001b[0m | \u001b[36mutils.graph\u001b[0m:\u001b[36mnode_process_mcqa_errors\u001b[0m:\u001b[36m283\u001b[0m - \u001b[1mNum of Options Not Matching Errors:[](0)\u001b[0m\n",
      "\u001b[32m2024-12-10 00:56:21.005\u001b[0m | \u001b[1mINFO    \u001b[0m | \u001b[36mutils.graph\u001b[0m:\u001b[36mnode_process_mcqa_errors\u001b[0m:\u001b[36m289\u001b[0m - \u001b[1mDeficient for Options Errors:[](0)\u001b[0m\n",
      "\u001b[32m2024-12-10 00:56:21.010\u001b[0m | \u001b[1mINFO    \u001b[0m | \u001b[36mutils.graph\u001b[0m:\u001b[36mnode_process_mcqa_errors\u001b[0m:\u001b[36m295\u001b[0m - \u001b[1mReasoning Utterance Errors:['시사경제용어_0', '시사경제용어_1', '시사경제용어_3', '시사경제용어_5', '시사경제용어_6', '시사경제용어_7', '시사경제용어_8'](7)\u001b[0m\n",
      "\u001b[32m2024-12-10 00:56:21.011\u001b[0m | \u001b[1mINFO    \u001b[0m | \u001b[36mutils.graph\u001b[0m:\u001b[36mnode_process_mcqa_errors\u001b[0m:\u001b[36m308\u001b[0m - \u001b[1mAll Errors:['시사경제용어_0', '시사경제용어_1', '시사경제용어_3', '시사경제용어_5', '시사경제용어_6', '시사경제용어_7', '시사경제용어_8'](7)\u001b[0m\n",
      "\u001b[32m2024-12-10 00:56:21.012\u001b[0m | \u001b[1mINFO    \u001b[0m | \u001b[36mutils.graph\u001b[0m:\u001b[36medge_check_error\u001b[0m:\u001b[36m402\u001b[0m - \u001b[1medge_check_error: step 1\u001b[0m\n",
      "\u001b[32m2024-12-10 00:56:21.012\u001b[0m | \u001b[1mINFO    \u001b[0m | \u001b[36mutils.graph\u001b[0m:\u001b[36medge_check_error\u001b[0m:\u001b[36m403\u001b[0m - \u001b[1mnum of errors: 7\u001b[0m\n",
      "\u001b[32m2024-12-10 00:56:21.012\u001b[0m | \u001b[1mINFO    \u001b[0m | \u001b[36mutils.graph\u001b[0m:\u001b[36medge_check_error\u001b[0m:\u001b[36m407\u001b[0m - \u001b[1mError tolerance: 7/3(233.33%)\u001b[0m\n",
      "\u001b[32m2024-12-10 00:56:21.013\u001b[0m | \u001b[1mINFO    \u001b[0m | \u001b[36mutils.graph\u001b[0m:\u001b[36mnode_regenerate_mcqa\u001b[0m:\u001b[36m123\u001b[0m - \u001b[1mnode_regenerate_mcqa: step 1\u001b[0m\n",
      "\u001b[32m2024-12-10 00:56:21.014\u001b[0m | \u001b[1mINFO    \u001b[0m | \u001b[36mutils.utils\u001b[0m:\u001b[36mconcurrent_execute\u001b[0m:\u001b[36m104\u001b[0m - \u001b[1mn_workers: 300\u001b[0m\n",
      "\u001b[32m2024-12-10 00:56:21.015\u001b[0m | \u001b[1mINFO    \u001b[0m | \u001b[36mutils.utils\u001b[0m:\u001b[36mconcurrent_execute\u001b[0m:\u001b[36m105\u001b[0m - \u001b[1miterables length: 7\u001b[0m\n",
      "100%|█████████████████████████████████████████████████████████████████████████████████████| 7/7 [00:13<00:00,  1.94s/it]\n",
      "\u001b[32m2024-12-10 00:56:34.607\u001b[0m | \u001b[1mINFO    \u001b[0m | \u001b[36mutils.graph\u001b[0m:\u001b[36mnode_process_mcqa_errors\u001b[0m:\u001b[36m260\u001b[0m - \u001b[1mnode_process_mcqa_errors\u001b[0m\n",
      "\u001b[32m2024-12-10 00:56:34.609\u001b[0m | \u001b[1mINFO    \u001b[0m | \u001b[36mutils.graph\u001b[0m:\u001b[36mnode_process_mcqa_errors\u001b[0m:\u001b[36m271\u001b[0m - \u001b[1mOption Errors:[](0)\u001b[0m\n",
      "\u001b[32m2024-12-10 00:56:34.611\u001b[0m | \u001b[1mINFO    \u001b[0m | \u001b[36mutils.graph\u001b[0m:\u001b[36mnode_process_mcqa_errors\u001b[0m:\u001b[36m277\u001b[0m - \u001b[1mAnswer Errors:[](0)\u001b[0m\n",
      "\u001b[32m2024-12-10 00:56:34.614\u001b[0m | \u001b[1mINFO    \u001b[0m | \u001b[36mutils.graph\u001b[0m:\u001b[36mnode_process_mcqa_errors\u001b[0m:\u001b[36m283\u001b[0m - \u001b[1mNum of Options Not Matching Errors:['시사경제용어_0'](1)\u001b[0m\n",
      "\u001b[32m2024-12-10 00:56:34.616\u001b[0m | \u001b[1mINFO    \u001b[0m | \u001b[36mutils.graph\u001b[0m:\u001b[36mnode_process_mcqa_errors\u001b[0m:\u001b[36m289\u001b[0m - \u001b[1mDeficient for Options Errors:[](0)\u001b[0m\n",
      "\u001b[32m2024-12-10 00:56:34.619\u001b[0m | \u001b[1mINFO    \u001b[0m | \u001b[36mutils.graph\u001b[0m:\u001b[36mnode_process_mcqa_errors\u001b[0m:\u001b[36m295\u001b[0m - \u001b[1mReasoning Utterance Errors:['시사경제용어_1', '시사경제용어_5', '시사경제용어_7'](3)\u001b[0m\n",
      "\u001b[32m2024-12-10 00:56:34.619\u001b[0m | \u001b[1mINFO    \u001b[0m | \u001b[36mutils.graph\u001b[0m:\u001b[36mnode_process_mcqa_errors\u001b[0m:\u001b[36m308\u001b[0m - \u001b[1mAll Errors:['시사경제용어_0', '시사경제용어_1', '시사경제용어_5', '시사경제용어_7'](4)\u001b[0m\n",
      "\u001b[32m2024-12-10 00:56:34.620\u001b[0m | \u001b[1mINFO    \u001b[0m | \u001b[36mutils.graph\u001b[0m:\u001b[36medge_check_error\u001b[0m:\u001b[36m402\u001b[0m - \u001b[1medge_check_error: step 1\u001b[0m\n",
      "\u001b[32m2024-12-10 00:56:34.620\u001b[0m | \u001b[1mINFO    \u001b[0m | \u001b[36mutils.graph\u001b[0m:\u001b[36medge_check_error\u001b[0m:\u001b[36m403\u001b[0m - \u001b[1mnum of errors: 4\u001b[0m\n",
      "\u001b[32m2024-12-10 00:56:34.621\u001b[0m | \u001b[1mINFO    \u001b[0m | \u001b[36mutils.graph\u001b[0m:\u001b[36medge_check_error\u001b[0m:\u001b[36m407\u001b[0m - \u001b[1mError tolerance: 4/3(133.33%)\u001b[0m\n",
      "\u001b[32m2024-12-10 00:56:34.621\u001b[0m | \u001b[1mINFO    \u001b[0m | \u001b[36mutils.graph\u001b[0m:\u001b[36mnode_regenerate_mcqa\u001b[0m:\u001b[36m123\u001b[0m - \u001b[1mnode_regenerate_mcqa: step 1\u001b[0m\n",
      "\u001b[32m2024-12-10 00:56:34.621\u001b[0m | \u001b[1mINFO    \u001b[0m | \u001b[36mutils.utils\u001b[0m:\u001b[36mconcurrent_execute\u001b[0m:\u001b[36m104\u001b[0m - \u001b[1mn_workers: 300\u001b[0m\n",
      "\u001b[32m2024-12-10 00:56:34.622\u001b[0m | \u001b[1mINFO    \u001b[0m | \u001b[36mutils.utils\u001b[0m:\u001b[36mconcurrent_execute\u001b[0m:\u001b[36m105\u001b[0m - \u001b[1miterables length: 4\u001b[0m\n",
      "100%|█████████████████████████████████████████████████████████████████████████████████████| 4/4 [00:12<00:00,  3.16s/it]\n",
      "\u001b[32m2024-12-10 00:56:47.270\u001b[0m | \u001b[1mINFO    \u001b[0m | \u001b[36mutils.graph\u001b[0m:\u001b[36mnode_process_mcqa_errors\u001b[0m:\u001b[36m260\u001b[0m - \u001b[1mnode_process_mcqa_errors\u001b[0m\n",
      "\u001b[32m2024-12-10 00:56:47.276\u001b[0m | \u001b[1mINFO    \u001b[0m | \u001b[36mutils.graph\u001b[0m:\u001b[36mnode_process_mcqa_errors\u001b[0m:\u001b[36m271\u001b[0m - \u001b[1mOption Errors:['시사경제용어_5'](1)\u001b[0m\n",
      "\u001b[32m2024-12-10 00:56:47.278\u001b[0m | \u001b[1mINFO    \u001b[0m | \u001b[36mutils.graph\u001b[0m:\u001b[36mnode_process_mcqa_errors\u001b[0m:\u001b[36m277\u001b[0m - \u001b[1mAnswer Errors:[](0)\u001b[0m\n",
      "\u001b[32m2024-12-10 00:56:47.280\u001b[0m | \u001b[1mINFO    \u001b[0m | \u001b[36mutils.graph\u001b[0m:\u001b[36mnode_process_mcqa_errors\u001b[0m:\u001b[36m283\u001b[0m - \u001b[1mNum of Options Not Matching Errors:[](0)\u001b[0m\n",
      "\u001b[32m2024-12-10 00:56:47.282\u001b[0m | \u001b[1mINFO    \u001b[0m | \u001b[36mutils.graph\u001b[0m:\u001b[36mnode_process_mcqa_errors\u001b[0m:\u001b[36m289\u001b[0m - \u001b[1mDeficient for Options Errors:[](0)\u001b[0m\n",
      "\u001b[32m2024-12-10 00:56:47.285\u001b[0m | \u001b[1mINFO    \u001b[0m | \u001b[36mutils.graph\u001b[0m:\u001b[36mnode_process_mcqa_errors\u001b[0m:\u001b[36m295\u001b[0m - \u001b[1mReasoning Utterance Errors:['시사경제용어_0', '시사경제용어_1'](2)\u001b[0m\n",
      "\u001b[32m2024-12-10 00:56:47.286\u001b[0m | \u001b[1mINFO    \u001b[0m | \u001b[36mutils.graph\u001b[0m:\u001b[36mnode_process_mcqa_errors\u001b[0m:\u001b[36m308\u001b[0m - \u001b[1mAll Errors:['시사경제용어_0', '시사경제용어_1', '시사경제용어_5'](3)\u001b[0m\n",
      "\u001b[32m2024-12-10 00:56:47.287\u001b[0m | \u001b[1mINFO    \u001b[0m | \u001b[36mutils.graph\u001b[0m:\u001b[36medge_check_error\u001b[0m:\u001b[36m402\u001b[0m - \u001b[1medge_check_error: step 1\u001b[0m\n",
      "\u001b[32m2024-12-10 00:56:47.287\u001b[0m | \u001b[1mINFO    \u001b[0m | \u001b[36mutils.graph\u001b[0m:\u001b[36medge_check_error\u001b[0m:\u001b[36m403\u001b[0m - \u001b[1mnum of errors: 3\u001b[0m\n",
      "\u001b[32m2024-12-10 00:56:47.287\u001b[0m | \u001b[1mINFO    \u001b[0m | \u001b[36mutils.graph\u001b[0m:\u001b[36medge_check_error\u001b[0m:\u001b[36m407\u001b[0m - \u001b[1mError tolerance: 3/3(100.00%)\u001b[0m\n",
      "\u001b[32m2024-12-10 00:56:47.288\u001b[0m | \u001b[1mINFO    \u001b[0m | \u001b[36mutils.graph\u001b[0m:\u001b[36mnode_classify_mcqa_hallucination\u001b[0m:\u001b[36m192\u001b[0m - \u001b[1mnode_classify_mcqa_hallucination: step 1\u001b[0m\n",
      "\u001b[32m2024-12-10 00:56:47.291\u001b[0m | \u001b[1mINFO    \u001b[0m | \u001b[36mutils.utils\u001b[0m:\u001b[36mconcurrent_execute\u001b[0m:\u001b[36m104\u001b[0m - \u001b[1mn_workers: 300\u001b[0m\n",
      "\u001b[32m2024-12-10 00:56:47.292\u001b[0m | \u001b[1mINFO    \u001b[0m | \u001b[36mutils.utils\u001b[0m:\u001b[36mconcurrent_execute\u001b[0m:\u001b[36m105\u001b[0m - \u001b[1miterables length: 14\u001b[0m\n",
      "100%|███████████████████████████████████████████████████████████████████████████████████| 14/14 [00:06<00:00,  2.14it/s]\n",
      "\u001b[32m2024-12-10 00:56:53.884\u001b[0m | \u001b[1mINFO    \u001b[0m | \u001b[36mutils.graph\u001b[0m:\u001b[36mnode_process_hallucination_errors\u001b[0m:\u001b[36m235\u001b[0m - \u001b[1mnode_process_hallucination_errors\u001b[0m\n",
      "\u001b[32m2024-12-10 00:56:53.886\u001b[0m | \u001b[1mINFO    \u001b[0m | \u001b[36mutils.graph\u001b[0m:\u001b[36mnode_process_hallucination_errors\u001b[0m:\u001b[36m242\u001b[0m - \u001b[1mHallucination Errors:[](0)\u001b[0m\n",
      "\u001b[32m2024-12-10 00:56:53.886\u001b[0m | \u001b[1mINFO    \u001b[0m | \u001b[36mutils.graph\u001b[0m:\u001b[36mnode_process_hallucination_errors\u001b[0m:\u001b[36m248\u001b[0m - \u001b[1mAll Errors:[](0)\u001b[0m\n",
      "\u001b[32m2024-12-10 00:56:53.887\u001b[0m | \u001b[1mINFO    \u001b[0m | \u001b[36mutils.graph\u001b[0m:\u001b[36medge_check_hallucination\u001b[0m:\u001b[36m421\u001b[0m - \u001b[1medge_check_hallucination: step 1\u001b[0m\n",
      "\u001b[32m2024-12-10 00:56:53.888\u001b[0m | \u001b[1mINFO    \u001b[0m | \u001b[36mutils.graph\u001b[0m:\u001b[36medge_check_hallucination\u001b[0m:\u001b[36m422\u001b[0m - \u001b[1mnum of errors: 0\u001b[0m\n",
      "\u001b[32m2024-12-10 00:56:53.888\u001b[0m | \u001b[1mINFO    \u001b[0m | \u001b[36mutils.graph\u001b[0m:\u001b[36medge_check_hallucination\u001b[0m:\u001b[36m426\u001b[0m - \u001b[1mError tolerance: 0/2(0.00%)\u001b[0m\n",
      "\u001b[32m2024-12-10 00:56:53.889\u001b[0m | \u001b[1mINFO    \u001b[0m | \u001b[36mutils.graph\u001b[0m:\u001b[36mnode_value_grade_and_save_data\u001b[0m:\u001b[36m322\u001b[0m - \u001b[1mnode_value_grade_and_save_data\u001b[0m\n",
      "\u001b[32m2024-12-10 00:56:53.890\u001b[0m | \u001b[1mINFO    \u001b[0m | \u001b[36mutils.graph\u001b[0m:\u001b[36mnode_value_grade_and_save_data\u001b[0m:\u001b[36m330\u001b[0m - \u001b[1mConvert Batch to Element: List[Dict[List]] -> List[Dict]\u001b[0m\n",
      "\u001b[32m2024-12-10 00:56:53.904\u001b[0m | \u001b[1mINFO    \u001b[0m | \u001b[36mutils.graph\u001b[0m:\u001b[36mnode_value_grade_and_save_data\u001b[0m:\u001b[36m339\u001b[0m - \u001b[1mGrade value MCQA\u001b[0m\n",
      "\u001b[32m2024-12-10 00:56:53.905\u001b[0m | \u001b[1mINFO    \u001b[0m | \u001b[36mutils.utils\u001b[0m:\u001b[36mconcurrent_execute\u001b[0m:\u001b[36m104\u001b[0m - \u001b[1mn_workers: 300\u001b[0m\n",
      "\u001b[32m2024-12-10 00:56:53.905\u001b[0m | \u001b[1mINFO    \u001b[0m | \u001b[36mutils.utils\u001b[0m:\u001b[36mconcurrent_execute\u001b[0m:\u001b[36m105\u001b[0m - \u001b[1miterables length: 14\u001b[0m\n",
      "100%|███████████████████████████████████████████████████████████████████████████████████| 14/14 [00:01<00:00,  7.64it/s]\n",
      "\u001b[32m2024-12-10 00:56:55.774\u001b[0m | \u001b[1mINFO    \u001b[0m | \u001b[36mutils.graph\u001b[0m:\u001b[36mnode_value_grade_and_save_data\u001b[0m:\u001b[36m353\u001b[0m - \u001b[1mSave Data\u001b[0m\n",
      "\u001b[32m2024-12-10 00:56:55.777\u001b[0m | \u001b[1mINFO    \u001b[0m | \u001b[36mutils.io\u001b[0m:\u001b[36mwrite_jsonl\u001b[0m:\u001b[36m127\u001b[0m - \u001b[1msave jsonl file in ./sisa_economy_terms_common_mcqa_common_step_1.jsonl\u001b[0m\n",
      "\u001b[32m2024-12-10 00:56:55.788\u001b[0m | \u001b[1mINFO    \u001b[0m | \u001b[36mutils.graph\u001b[0m:\u001b[36mnode_add_step\u001b[0m:\u001b[36m390\u001b[0m - \u001b[1mnode_add_step: 1 -> 2\u001b[0m\n",
      "\u001b[32m2024-12-10 00:56:55.789\u001b[0m | \u001b[1mINFO    \u001b[0m | \u001b[36mutils.graph\u001b[0m:\u001b[36medge_check_next_step\u001b[0m:\u001b[36m435\u001b[0m - \u001b[1medge_check_next_step [max step: 1 vs current step: 2]\u001b[0m\n"
     ]
    }
   ],
   "source": [
    "# 샘플로 10개의 data만 MCQA graph pipeline으로 생성\n",
    "data = data[:10]\n",
    "\n",
    "inputs = {\n",
    "    \"save_dir\": \".\", # 저장할 디렉토리명\n",
    "    \"save_file_name\": \"sisa_economy_terms\", # 저장할 파일명.\n",
    "    \"task_type\": \"common\", # common, knowledge, math\n",
    "    \"eval_type\": \"mcqa\", # mcqa, qa\n",
    "    \"domain_type\": \"common\", # common, market, accounting, law, quant\n",
    "    \"n_datasets\": 2, # Step별로 Refence당 생성할 MCQA 데이터셋 수\n",
    "    \"max_step\": 1, # 몇 Step까지 실행할 것인지\n",
    "    \"n_workers\": 300, # GPT로 생성시 Concurrent의 Worker 수\n",
    "    \"oai_model\": \"gpt-4o-mini\", # gpt 모델명. Dictionary 타입으로 각 completion마다 정의 가능\n",
    "    \"error_tolerance_ratio\": 0.3, # 허용할 에러율. 해당 에러율 이하로 에러 발생시 다음 단계로 진행\n",
    "    \"show_log_error\": False, # 에러별로 발생한 Index를 로그로 표시\n",
    "    \"data\": data # Reference 데이터\n",
    "}\n",
    "graph = mcqa_graph()\n",
    "result = graph.invoke(input=inputs, config={\"recursion_limit\": 30}) # Graph에서 재귀적으로 실행되는 허용치"
   ]
  },
  {
   "cell_type": "markdown",
   "id": "24253848-951c-429b-8798-09a0aa9a7088",
   "metadata": {},
   "source": [
    "Langgraph에서 [graph는 시각화](https://langchain-ai.github.io/langgraph/how-tos/visualization/)할 수 있습니다.  \n",
    "`utils.graph.show_graph`는 생성한 graph를 시각화해주고, `utils.graph.save_graph`는 png파일 형태로 저장합니다."
   ]
  },
  {
   "cell_type": "code",
   "execution_count": 18,
   "id": "bdef7aa0-7868-46a7-8981-580277e0cd10",
   "metadata": {
    "execution": {
     "iopub.execute_input": "2024-12-09T15:56:55.799521Z",
     "iopub.status.busy": "2024-12-09T15:56:55.798671Z",
     "iopub.status.idle": "2024-12-09T15:56:57.389481Z",
     "shell.execute_reply": "2024-12-09T15:56:57.388468Z",
     "shell.execute_reply.started": "2024-12-09T15:56:55.799498Z"
    },
    "tags": []
   },
   "outputs": [
    {
     "data": {
      "image/jpeg": "[encoded data removed]",
      "text/plain": [
       "<IPython.core.display.Image object>"
      ]
     },
     "metadata": {},
     "output_type": "display_data"
    }
   ],
   "source": [
    "from utils import show_graph\n",
    "\n",
    "show_graph(graph)"
   ]
  },
  {
   "cell_type": "markdown",
   "id": "c08acc4a-3396-4d43-aef0-2e596c8a1d40",
   "metadata": {},
   "source": [
    "## <span style=\"color: #886CE4\"> 4. Sample Check </span>\n",
    "파이프라인은 지정한 Path에 Json line 형태로 저장합니다.  \n",
    "생성한 데이터셋을 Pandas DataFrame으로 읽어봅니다."
   ]
  },
  {
   "cell_type": "code",
   "execution_count": 19,
   "id": "538baefa-6c4a-4a13-9dbe-71ac1867c71c",
   "metadata": {
    "execution": {
     "iopub.execute_input": "2024-12-09T15:57:05.635958Z",
     "iopub.status.busy": "2024-12-09T15:57:05.635334Z",
     "iopub.status.idle": "2024-12-09T15:57:05.645556Z",
     "shell.execute_reply": "2024-12-09T15:57:05.644591Z",
     "shell.execute_reply.started": "2024-12-09T15:57:05.635914Z"
    },
    "tags": []
   },
   "outputs": [
    {
     "name": "stderr",
     "output_type": "stream",
     "text": [
      "\u001b[32m2024-12-10 00:57:05.638\u001b[0m | \u001b[1mINFO    \u001b[0m | \u001b[36mutils.io\u001b[0m:\u001b[36mread_jsonl\u001b[0m:\u001b[36m142\u001b[0m - \u001b[1mread jsonl file in ./sisa_economy_terms_common_mcqa_common_step_1.jsonl\u001b[0m\n"
     ]
    }
   ],
   "source": [
    "from utils import read_jsonl\n",
    "import pandas as pd\n",
    "\n",
    "df = pd.DataFrame(read_jsonl(\"./sisa_economy_terms_common_mcqa_common_step_1.jsonl\"))"
   ]
  },
  {
   "cell_type": "code",
   "execution_count": 20,
   "id": "8ffce3ba-06cc-4921-bf11-cd0ce283c7fd",
   "metadata": {
    "execution": {
     "iopub.execute_input": "2024-12-09T15:57:06.294252Z",
     "iopub.status.busy": "2024-12-09T15:57:06.293659Z",
     "iopub.status.idle": "2024-12-09T15:57:06.312871Z",
     "shell.execute_reply": "2024-12-09T15:57:06.312245Z",
     "shell.execute_reply.started": "2024-12-09T15:57:06.294198Z"
    },
    "tags": []
   },
   "outputs": [
    {
     "data": {
      "text/html": [
       "<div>\n",
       "<style scoped>\n",
       "    .dataframe tbody tr th:only-of-type {\n",
       "        vertical-align: middle;\n",
       "    }\n",
       "\n",
       "    .dataframe tbody tr th {\n",
       "        vertical-align: top;\n",
       "    }\n",
       "\n",
       "    .dataframe thead th {\n",
       "        text-align: right;\n",
       "    }\n",
       "</style>\n",
       "<table border=\"1\" class=\"dataframe\">\n",
       "  <thead>\n",
       "    <tr style=\"text-align: right;\">\n",
       "      <th></th>\n",
       "      <th>index</th>\n",
       "      <th>title</th>\n",
       "      <th>contents</th>\n",
       "      <th>question</th>\n",
       "      <th>options</th>\n",
       "      <th>reasoning_process</th>\n",
       "      <th>answer</th>\n",
       "      <th>step</th>\n",
       "      <th>hallucination</th>\n",
       "      <th>hallucination_desc</th>\n",
       "      <th>value</th>\n",
       "      <th>type</th>\n",
       "      <th>oai_model</th>\n",
       "      <th>update_at</th>\n",
       "    </tr>\n",
       "  </thead>\n",
       "  <tbody>\n",
       "    <tr>\n",
       "      <th>0</th>\n",
       "      <td>시사경제용어_3</td>\n",
       "      <td>20-20-20 계획</td>\n",
       "      <td>\\t유럽연합(EU)이 2020년까지 온실가스 20% 감축, 에너지효율 20% 개선,...</td>\n",
       "      <td>유럽연합(EU)의 20-20-20 계획에 따르면, 2020년까지 온실가스 감축 목표...</td>\n",
       "      <td>[A. 30%, B. 15%, C. 25%, D. 20%, E. 10%]</td>\n",
       "      <td>EU의 20-20-20 계획은 2020년까지 온실가스 감축 목표를 20%로 설정하여...</td>\n",
       "      <td>D</td>\n",
       "      <td>1</td>\n",
       "      <td>usable</td>\n",
       "      <td></td>\n",
       "      <td>0</td>\n",
       "      <td>mcqa</td>\n",
       "      <td>gpt-4o-mini</td>\n",
       "      <td>2024-12-10</td>\n",
       "    </tr>\n",
       "  </tbody>\n",
       "</table>\n",
       "</div>"
      ],
      "text/plain": [
       "      index        title                                           contents  \\\n",
       "0  시사경제용어_3  20-20-20 계획  \\t유럽연합(EU)이 2020년까지 온실가스 20% 감축, 에너지효율 20% 개선,...   \n",
       "\n",
       "                                            question  \\\n",
       "0  유럽연합(EU)의 20-20-20 계획에 따르면, 2020년까지 온실가스 감축 목표...   \n",
       "\n",
       "                                    options  \\\n",
       "0  [A. 30%, B. 15%, C. 25%, D. 20%, E. 10%]   \n",
       "\n",
       "                                   reasoning_process answer  step  \\\n",
       "0  EU의 20-20-20 계획은 2020년까지 온실가스 감축 목표를 20%로 설정하여...      D     1   \n",
       "\n",
       "  hallucination hallucination_desc  value  type    oai_model   update_at  \n",
       "0        usable                         0  mcqa  gpt-4o-mini  2024-12-10  "
      ]
     },
     "execution_count": 20,
     "metadata": {},
     "output_type": "execute_result"
    }
   ],
   "source": [
    "# 생성한 Instruction 데이터셋 확인\n",
    "df.head(1)"
   ]
  },
  {
   "cell_type": "markdown",
   "id": "66a1d21b-c2d2-4435-be7e-186770613f4b",
   "metadata": {},
   "source": [
    "`utils.processing.show_sample`과 `utils.processing.show_spec`은 데이터를 시각화한데 도움을 줍니다."
   ]
  },
  {
   "cell_type": "code",
   "execution_count": 21,
   "id": "bb8f8d48-93dd-422a-a3ea-4f9b776ba80c",
   "metadata": {
    "execution": {
     "iopub.execute_input": "2024-12-09T15:57:08.823559Z",
     "iopub.status.busy": "2024-12-09T15:57:08.822738Z",
     "iopub.status.idle": "2024-12-09T15:57:08.838025Z",
     "shell.execute_reply": "2024-12-09T15:57:08.837097Z",
     "shell.execute_reply.started": "2024-12-09T15:57:08.823501Z"
    },
    "tags": []
   },
   "outputs": [
    {
     "name": "stdout",
     "output_type": "stream",
     "text": [
      "\u001b[33m5번째 Sample\u001b[0m\n",
      "\u001b[35mquestion:\u001b[0m\n",
      "현재 3D TV를 시청하기 위해 필요한 것은 무엇인가요?\n",
      "\u001b[35moptions:\u001b[0m\n",
      "A. 특별한 사운드 시스템\n",
      "B. 고해상도 모니터\n",
      "C. 전기 유도 장치\n",
      "D. 스마트폰과의 연결\n",
      "E. 3D 전용 안경\n",
      "\u001b[35mreasoning_process:\u001b[0m\n",
      "현재 3D TV를 정상적으로 시청하기 위해서는 시청자가 3D 전용 안경을 착용해야 합니다. 이는 3D 기술의 특성상 각 눈에 다른 이미지를 전달하기 위하여 필수적인 요소입니다. 그러므로 정답은 3D 전용 안경입니다. 위에서 논의한 바와 같이 답은 E 입니다.\n",
      "\u001b[35manswer:\u001b[0m\n",
      "E\n",
      "\u001b[35mhallucination:\u001b[0m\n",
      "usable\n",
      "\n",
      "\u001b[35mvalue:\u001b[0m\n",
      "0\n",
      "\u001b[32m====================================================================================================\u001b[0m\n",
      "\u001b[33m6번째 Sample\u001b[0m\n",
      "\u001b[35mquestion:\u001b[0m\n",
      "다음 중 3층 연금체계에 대한 설명으로 맞는 것은 무엇인가?\n",
      "\u001b[35moptions:\u001b[0m\n",
      "A. 3층 연금체계는 정부가 강제 적용하는 기초연금 성격의 공적연금으로 시작된다.\n",
      "B. 3층 연금체계는 기본적으로 공적연금만으로 구성된다.\n",
      "C. 3층 연금체계는 민간이 연금 운영을 전혀 하지 않는다.\n",
      "D. 3층 연금체계는 공적연금과 사적연금이 독립적으로 존재한다.\n",
      "E. 3층 연금체계는 노후 소득 보장을 위해 기본적으로 사적연금만으로 이루어진다.\n",
      "F. 3층 연금체계의 첫 번째 층은 개인이 선택적으로 가입하는 개인연금이다.\n",
      "G. 3층 연금체계는 1층에 국민연금, 2층에 퇴직금, 3층에 개인연금을 포함한다.\n",
      "\u001b[35mreasoning_process:\u001b[0m\n",
      "3층 연금체계에서는 각 층의 역할이 매우 중요합니다. 1층은 기초연금적인 성격을 띠고 있으며, 이는 국민연금과 직역연금으로 구분됩니다. 따라서 1층의 특성을 고려했을 때, 정부가 강제로 적용함으로써 노후 소득의 기본 보장을 합니다. 2층은 기업에서 제공하는 퇴직금 또는 직역연금을 포함하여 민간에서 운용되지만 강제성이 있다는 점에서 중요한 역할을 합니다. 마지막으로 3층은 민간에서 임의적으로 가입할 수 있는 개인연금으로, 주로 개인의 선택에 따라 운영됩니다. 따라서 3층 연금체계가 정부가 강제적으로 운영하는 기초연금으로 시작한다는 점이 명확한 설명입니다. 위에서 논의한 바와 같이 답은 A 입니다.\n",
      "\u001b[35manswer:\u001b[0m\n",
      "A\n",
      "\u001b[35mhallucination:\u001b[0m\n",
      "usable\n",
      "\n",
      "\u001b[35mvalue:\u001b[0m\n",
      "1\n",
      "\u001b[32m====================================================================================================\u001b[0m\n"
     ]
    }
   ],
   "source": [
    "from utils import show_sample, show_spec\n",
    "\n",
    "# show_sample은 Pandas DataFrame을 Parameter로 받으며, 샘플을 보기 좋게 시각화해줍니다.\n",
    "show_sample(df, n=2)"
   ]
  },
  {
   "cell_type": "code",
   "execution_count": 22,
   "id": "8785e3ce-a1f2-44a6-a9c4-76ce7092d451",
   "metadata": {
    "execution": {
     "iopub.execute_input": "2024-12-09T15:57:13.624075Z",
     "iopub.status.busy": "2024-12-09T15:57:13.623209Z",
     "iopub.status.idle": "2024-12-09T15:57:13.638255Z",
     "shell.execute_reply": "2024-12-09T15:57:13.637481Z",
     "shell.execute_reply.started": "2024-12-09T15:57:13.624018Z"
    },
    "tags": []
   },
   "outputs": [
    {
     "name": "stdout",
     "output_type": "stream",
     "text": [
      "\u001b[35mtotal cnt: \u001b[0m14\n",
      "\u001b[35mvalue: \u001b[0m[0, 4, 1, 5, 2, 3]\n",
      "====================================================================================================\n",
      "\u001b[36m0: \u001b[0m3\n",
      "\u001b[36m1: \u001b[0m6\n",
      "\u001b[36m2: \u001b[0m1\n",
      "\u001b[36m3: \u001b[0m2\n",
      "\u001b[36m4: \u001b[0m1\n",
      "\u001b[36m5: \u001b[0m1\n"
     ]
    }
   ],
   "source": [
    "# show_spec은 특정 컬럼의 count를 확인시켜줍니다\n",
    "show_spec(df, \"value\")"
   ]
  }
 ],
 "metadata": {
  "kernelspec": {
   "display_name": "Python 3 (ipykernel)",
   "language": "python",
   "name": "python3"
  },
  "language_info": {
   "codemirror_mode": {
    "name": "ipython",
    "version": 3
   },
   "file_extension": ".py",
   "mimetype": "text/x-python",
   "name": "python",
   "nbconvert_exporter": "python",
   "pygments_lexer": "ipython3",
   "version": "3.11.5"
  }
 },
 "nbformat": 4,
 "nbformat_minor": 5
}
